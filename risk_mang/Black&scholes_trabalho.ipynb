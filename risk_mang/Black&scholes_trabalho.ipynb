{
 "cells": [
  {
   "cell_type": "code",
   "execution_count": 2,
   "id": "7c3e8b10-6dd7-483a-be5a-552d31822bf8",
   "metadata": {
    "tags": []
   },
   "outputs": [],
   "source": [
    "from scipy.stats import norm \n",
    "from math import log, sqrt, exp"
   ]
  },
  {
   "cell_type": "markdown",
   "id": "5ae10660-2b38-4f60-910c-c30ee2567313",
   "metadata": {},
   "source": [
    "### BS"
   ]
  },
  {
   "cell_type": "code",
   "execution_count": 3,
   "id": "1ac1eb6e-793e-4c1d-a4d6-4586f032f7cd",
   "metadata": {
    "tags": []
   },
   "outputs": [],
   "source": [
    "def d1(S, K, T, q, r, sigma):\n",
    "    return (log(S/K)+(r-q+sigma**2/2.)*T)/(sigma*sqrt(T))\n",
    "\n",
    "def d2(S, K, T, q, r, sigma):\n",
    "    return d1(S, K, T, q, r, sigma) - sigma * sqrt(T)\n",
    "\n",
    "def bs_call(S, K, T, q, r, sigma):\n",
    "    return S*np.exp(-q*T)*norm.cdf(d1(S, K, T, q, r, sigma)) - K*exp(-r*T) * norm.cdf(d2(S, K, T, q, r, sigma))\n",
    "\n",
    "def bs_put(S, K, T, q, r, sigma):\n",
    "    return K * exp(-r*T) * norm.cdf(-d2(S, K, T, q, r, sigma)) - S * np.exp(-q*T)*norm.cdf(-d1(S, K, T, q, r, sigma))  "
   ]
  },
  {
   "cell_type": "markdown",
   "id": "d10de47d-c7c0-4988-9dff-eafddc3062cf",
   "metadata": {},
   "source": [
    "### Greeks"
   ]
  },
  {
   "cell_type": "code",
   "execution_count": 1,
   "id": "98424c1c-6062-443a-9091-853ab3f21441",
   "metadata": {
    "tags": []
   },
   "outputs": [],
   "source": [
    "#Call\n",
    "\n",
    "# Delta \n",
    "def call_delta(S, K, T, q, r, sigma):\n",
    "    return norm.cdf(d1(S, K, T, q, r, sigma)) * exp(-q*T)\n",
    "# Gamma\n",
    "def call_gamma(S, K, T, q, r, sigma):\n",
    "    return norm.pdf(d1(S, K, T, q, r, sigma)) * exp(-q*T) / (S*sigma*sqrt(T))\n",
    "# Vega\n",
    "def call_vega(S, K, T, q, r, sigma):\n",
    "    return S*norm.pdf(d1(S, K, T, q, r, sigma))*sqrt(T)*exp(-q*T)\n",
    "# Theta\n",
    "def call_theta(S, K, T, q, r, sigma):\n",
    "    return (-(S*norm.pdf(d1(S, K, T, q, r, sigma)) * sigma) / (2*sqrt(T))) + q*S*exp(-q*T)*norm.cdf(d1(S, K, T, q, r, sigma)) - r*K*exp(-r*T)*norm.cdf(d2(S, K, T, q, r, sigma))\n",
    "# Rho\n",
    "def call_rho(S, K, T, q, r, sigma):\n",
    "    return (K*T*exp(-r*T)*norm.cdf(d2(S, K, T, q, r, sigma)))\n",
    "\n",
    "#Put\n",
    "\n",
    "def put_delta(S, K, T, q, r, sigma):\n",
    "    return -norm.cdf(-d1(S, K, T, q, r, sigma)) * exp(-q*T)\n",
    "# Gamma\n",
    "def put_gamma(S, K, T, q, r, sigma):\n",
    "    return norm.pdf(d1(S, K, T, q, r, sigma))* exp(-q*T) / (S*sigma*sqrt(T))\n",
    "# Vega\n",
    "def put_vega(S, K, T, q, r, sigma):\n",
    "    return S*norm.pdf(d1(S, K, T, q, r, sigma))*sqrt(T)*exp(-q*T)\n",
    "# Theta\n",
    "def put_theta(S, K, T, q, r, sigma):\n",
    "    return (-(S*norm.pdf(d1(S, K, T, q, r, sigma)) * sigma) / (2*sqrt(T))) - q*S*exp(-q*T)*norm.cdf(-d1(S, K, T, q, r, sigma)) + r*K*exp(-r*T)*norm.cdf(-d2(S, K, T, q, r, sigma))\n",
    "# Rho\n",
    "def put_rho(S, K, T, q, r, sigma):\n",
    "    return -K*T*exp(-r*T)*norm.cdf(-d2(S, K, T, q, r, sigma))"
   ]
  }
 ],
 "metadata": {
  "kernelspec": {
   "display_name": "Python 3 (ipykernel)",
   "language": "python",
   "name": "python3"
  },
  "language_info": {
   "codemirror_mode": {
    "name": "ipython",
    "version": 3
   },
   "file_extension": ".py",
   "mimetype": "text/x-python",
   "name": "python",
   "nbconvert_exporter": "python",
   "pygments_lexer": "ipython3",
   "version": "3.9.6"
  }
 },
 "nbformat": 4,
 "nbformat_minor": 5
}
