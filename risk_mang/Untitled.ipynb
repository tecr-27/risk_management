{
 "cells": [
  {
   "cell_type": "code",
   "execution_count": 1,
   "id": "cbf66ff3-989a-4955-9945-25c4c30f9e9a",
   "metadata": {
    "tags": []
   },
   "outputs": [],
   "source": [
    "#longstaff_schwartz\n",
    "import numpy as np\n",
    "\n",
    "x = np.array([[1.00, 1.09, 1.08, 1.34], \n",
    "             [1.00, 1.16, 1.26, 1.54],     \n",
    "             [1.00, 1.22, 1.07, 1.03],\n",
    "             [1.00, 0.93, .97, .92],\n",
    "             [1.00, 1.11, 1.56, 1.52],\n",
    "             [1.00, .76, .77, .9],\n",
    "             [1.00, .92, .84, 1.01],\n",
    "             [1.00, .88, 1.22, 1.34]])"
   ]
  },
  {
   "cell_type": "code",
   "execution_count": 2,
   "id": "7f14fcae-4609-4c17-bcbe-c5104b299fee",
   "metadata": {
    "tags": []
   },
   "outputs": [],
   "source": [
    "x = x.T"
   ]
  },
  {
   "cell_type": "code",
   "execution_count": 20,
   "id": "5d1cb590-0d1a-4c88-831a-9d9537792c4c",
   "metadata": {
    "tags": []
   },
   "outputs": [
    {
     "data": {
      "text/plain": [
       "(4, 8)"
      ]
     },
     "execution_count": 20,
     "metadata": {},
     "output_type": "execute_result"
    }
   ],
   "source": [
    "x.shape"
   ]
  },
  {
   "cell_type": "code",
   "execution_count": 3,
   "id": "40775571-0cd1-40b6-b4bc-96d8974a738f",
   "metadata": {
    "tags": []
   },
   "outputs": [],
   "source": [
    "payoff = np.maximum(1.1 - x, 0)\n"
   ]
  },
  {
   "cell_type": "code",
   "execution_count": 40,
   "id": "fe05f964-25a7-4d2f-9220-a9fae2f49803",
   "metadata": {
    "tags": []
   },
   "outputs": [
    {
     "data": {
      "text/plain": [
       "(4, 8)"
      ]
     },
     "execution_count": 40,
     "metadata": {},
     "output_type": "execute_result"
    }
   ],
   "source": [
    "payoff.shape"
   ]
  },
  {
   "cell_type": "code",
   "execution_count": 41,
   "id": "8e8721d5-d558-4c32-bed0-954194eabbbd",
   "metadata": {
    "tags": []
   },
   "outputs": [
    {
     "data": {
      "text/plain": [
       "(4, 8)"
      ]
     },
     "execution_count": 41,
     "metadata": {},
     "output_type": "execute_result"
    }
   ],
   "source": [
    "x.shape"
   ]
  },
  {
   "cell_type": "code",
   "execution_count": 17,
   "id": "994d16eb-b462-47d7-8ab3-6b0026ac54b6",
   "metadata": {
    "tags": []
   },
   "outputs": [],
   "source": [
    "V = payoff[-1,:]\n",
    "import matplotlib.pyplot as plt\n",
    "\n",
    "for i in range(len(x)-2, 0, -1):\n",
    "    # itm = payoff[i] > 0\n",
    "    # x_itm = x[i+1][itm]\n",
    "    rg = np.polyfit(x[i,:], payoff[i,:], 5)\n",
    "    C = np.polyval(rg, x[i])\n",
    "    V = np.where(payoff[i] > C, payoff[i], V*np.exp(-0.01*0.5))\n",
    "    \n",
    "    # print(np.where(payoff[i] > C, payoff[i], V*np.exp(-0.01*0.5)))"
   ]
  },
  {
   "cell_type": "code",
   "execution_count": 4,
   "id": "d0c95d1d-8655-433e-8e39-c870df9988ae",
   "metadata": {},
   "outputs": [
    {
     "name": "stdout",
     "output_type": "stream",
     "text": [
      "(8,)\n",
      "\n",
      "\n",
      "--------- continuation_2 ---------\n",
      "\n",
      "\n",
      "[-1.92572147  3.16789444 -1.136152  ]\n",
      "\n",
      "\n",
      "--------- rg_2 ---------\n",
      "\n",
      "\n",
      "[0.03901247 0.04873654 0.12479427 0.16136646 0.16609026]\n",
      "4\n",
      "(8,)\n",
      "\n",
      "\n",
      "--------- continuation_1 ---------\n",
      "\n",
      "\n",
      "[ 1.44033518 -3.5416957   2.16350507]\n",
      "\n",
      "\n",
      "--------- rg_1 ---------\n",
      "\n",
      "\n",
      "[0.01431898 0.11547396 0.30375393 0.12424472 0.16220841]\n",
      "4\n"
     ]
    }
   ],
   "source": [
    "V = payoff[-1,:]\n",
    "\n",
    "for i in reversed(range(1, x.shape[0] - 1)):\n",
    "    # print(i)\n",
    "    print(V.shape)\n",
    "    x_ = x[i, : ]\n",
    "    otm = np.where(x_ > 1.1)\n",
    "    itm = np.where(x_ <= 1.1)\n",
    "    itm_x = np.delete(x_, otm)\n",
    "    itm_o = np.delete(V, otm)\n",
    "    # print(np.where(itm == True, x_, 0))\n",
    "    # # fit curve\n",
    "    try:\n",
    "        rg = np.polyfit(itm_x,  itm_o, 2)\n",
    "        C = np.polyval(rg, itm_x)\n",
    "    except Exception:\n",
    "        pass\n",
    "    # approximate continuation value\n",
    "    print(\"\\n\")\n",
    "    print(f\"--------- continuation_{i} ---------\")\n",
    "    print(\"\\n\")\n",
    "    print(rg)\n",
    "    print(\"\\n\")\n",
    "    print(f\"--------- rg_{i} ---------\")\n",
    "    print(\"\\n\")\n",
    "    print(C)\n",
    "    print(len(payoff))\n",
    "    V[itm] = np.where(payoff[i, itm] > C, payoff[i, itm], V[itm])"
   ]
  },
  {
   "cell_type": "code",
   "execution_count": 48,
   "id": "4113adcd-558d-4d2a-8ff4-de5f3182cb2f",
   "metadata": {
    "tags": []
   },
   "outputs": [
    {
     "data": {
      "text/plain": [
       "8"
      ]
     },
     "execution_count": 48,
     "metadata": {},
     "output_type": "execute_result"
    }
   ],
   "source": [
    "len(payoff[-1, :])"
   ]
  },
  {
   "cell_type": "code",
   "execution_count": 5,
   "id": "119c41ef-9f6c-4599-b4af-f2e4f043ec02",
   "metadata": {
    "tags": []
   },
   "outputs": [
    {
     "data": {
      "text/plain": [
       "array([0.  , 0.  , 0.07, 0.17, 0.  , 0.34, 0.18, 0.22])"
      ]
     },
     "execution_count": 5,
     "metadata": {},
     "output_type": "execute_result"
    }
   ],
   "source": [
    "V"
   ]
  }
 ],
 "metadata": {
  "kernelspec": {
   "display_name": "Python 3 (ipykernel)",
   "language": "python",
   "name": "python3"
  },
  "language_info": {
   "codemirror_mode": {
    "name": "ipython",
    "version": 3
   },
   "file_extension": ".py",
   "mimetype": "text/x-python",
   "name": "python",
   "nbconvert_exporter": "python",
   "pygments_lexer": "ipython3",
   "version": "3.9.6"
  }
 },
 "nbformat": 4,
 "nbformat_minor": 5
}
