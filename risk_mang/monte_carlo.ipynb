{
 "cells": [
  {
   "cell_type": "code",
   "execution_count": 1,
   "id": "954a746a-c68a-4c06-b076-cdc862b7b930",
   "metadata": {
    "tags": []
   },
   "outputs": [],
   "source": [
    "import numpy as np\n",
    "import pandas as pd"
   ]
  },
  {
   "cell_type": "markdown",
   "id": "c435303f-4bb8-4d0e-a943-7c2bc67152ad",
   "metadata": {},
   "source": [
    "#### Monte carlo simulations"
   ]
  },
  {
   "cell_type": "code",
   "execution_count": 84,
   "id": "c2323fd1-e7d7-481d-a055-ee5d2a1495b8",
   "metadata": {
    "tags": []
   },
   "outputs": [],
   "source": [
    "def call_payoff(S:float, K:float, r:float, q:float, T:float) -> float:\n",
    "    return max(S*np.exp(-q*T)-K*np.exp(-r*T), 0)\n",
    "\n",
    "def put_payoff(S:float, K:float, r:float, q:float, T:float) -> float:\n",
    "    return max(K*np.exp(-r*T)-S*np.exp(-q*T), 0)\n",
    "\n",
    "def monte_carlo(S0:float, K:float, sigma:float, rf:float, q:float, t:float, NOofsteps:int, NOofPaths:int) -> pd.DataFrame:\n",
    "        \"\"\"Geometric Brownian Motion\"\"\"\n",
    "        r = rf - q\n",
    "        np.random.seed(42)\n",
    "        random = np.random.normal(0, 1, size = (NOofsteps, NOofPaths))\n",
    "        paths = np.zeros(shape=(NOofsteps, NOofPaths))\n",
    "        paths[0,:]=S0\n",
    "        dt=t/NOofsteps\n",
    "        for i in range(NOofPaths):\n",
    "            for j in range(1, NOofsteps):\n",
    "                paths[j,i] = paths[j-1,i]*np.exp((r-(sigma**2)/2)*dt + sigma*random[j-1,i]*np.sqrt(dt))\n",
    "        simulations = [f\"simulation_{i}\" for i in range(NOofPaths)]\n",
    "        \n",
    "        m_c = pd.DataFrame(data=paths, columns=simulations)\n",
    "        \n",
    "        paths = m_c\n",
    "        \n",
    "        S_t = m_c.iloc[-1:,]\n",
    "        \n",
    "        S_t_call = [call(S, K, rf, q, t) for S in S_t.values[0]]\n",
    "        \n",
    "        S_t_put = [put(S, K,  rf, q, t) for S in S_t.values[0]]\n",
    "        \n",
    "        return paths, np.mean(S_t_call), np.mean(S_t_put)\n",
    "\n",
    "def monte_carlo_vectorized(S0:float, K:float, sigma:float, rf:float, q:float, t:float, NOofsteps:int, NOofPaths:int) -> pd.DataFrame:\n",
    "    \n",
    "    r = rf - q\n",
    "    np.random.seed(42)\n",
    "    random = np.random.normal(0, 1, size = (NOofsteps, NOofPaths))\n",
    "    dt=t/NOofsteps\n",
    "    exp_ = np.exp((rf - (sigma**2)/2)*dt + sigma*random*np.sqrt(dt))\n",
    "    exp_cumprod = np.cumprod(exp_, axis=0)\n",
    "    paths = exp_cumprod*S0\n",
    "    paths[0,:] = S0\n",
    "    \n",
    "    S_t = paths[-1, :]\n",
    "\n",
    "    S_t_call = [call_payoff(S, K, rf, q, t) for S in S_t]\n",
    "        \n",
    "    S_t_put = [put_payoff(S, K,  rf, q, t) for S in S_t]\n",
    "    \n",
    "    \n",
    "    return paths, S_t_call, S_t_put\n",
    "    "
   ]
  },
  {
   "cell_type": "markdown",
   "id": "3b7b2a4a-0283-4601-af01-1ba02b5e3ca8",
   "metadata": {},
   "source": [
    "####  Pathwise Greeks"
   ]
  },
  {
   "cell_type": "code",
   "execution_count": 102,
   "id": "869f30f3-a4a1-4dfe-8a62-d469a7f4ed83",
   "metadata": {
    "tags": []
   },
   "outputs": [],
   "source": [
    "def Pathwise_delta(opt_type, S0, K, path, r, t):\n",
    "    temp_1 = path[-1, :] > K\n",
    "    call_delta = np.exp(-r*t)*np.mean(path[-1:,]/S0*temp_1)\n",
    "    if opt_type.lower() == \"call\":\n",
    "        return call_delta\n",
    "    elif opt_type.lower() == \"put\":\n",
    "        return -(1-call_delta)\n",
    "\n",
    "def Pathwise_vega(S0, K, path, sigma, r, t):\n",
    "    temp_1 = path[-1, :] > K\n",
    "    temp_2 = 1.0/sigma * S[:, -1]\n",
    "    call_vega = np.exp(-r*t)*np.mean(path[-1:,]/S0*temp_1)"
   ]
  }
 ],
 "metadata": {
  "kernelspec": {
   "display_name": "Python 3 (ipykernel)",
   "language": "python",
   "name": "python3"
  },
  "language_info": {
   "codemirror_mode": {
    "name": "ipython",
    "version": 3
   },
   "file_extension": ".py",
   "mimetype": "text/x-python",
   "name": "python",
   "nbconvert_exporter": "python",
   "pygments_lexer": "ipython3",
   "version": "3.9.6"
  }
 },
 "nbformat": 4,
 "nbformat_minor": 5
}
