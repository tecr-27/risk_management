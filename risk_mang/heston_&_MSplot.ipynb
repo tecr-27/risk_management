{
 "cells": [
  {
   "cell_type": "code",
   "execution_count": 3,
   "id": "37d3f309-9400-4d02-b222-4b645a6450f2",
   "metadata": {},
   "outputs": [],
   "source": [
    "import numpy as np\n",
    "import pandas as pd\n",
    "import matplotlib.pyplot as plt"
   ]
  },
  {
   "cell_type": "code",
   "execution_count": 4,
   "id": "2f1352ed-a502-4b7b-89b8-0358e363d30d",
   "metadata": {},
   "outputs": [],
   "source": [
    "##here we will program an heston model\n",
    "#stochastic volatility model\n",
    "###general formula:\n",
    "### dSt = (r-q)St*dt + sqrt(V)*dZs\n",
    "### dV = a(Vl-V)dt + xi*V**(alpha) * dZv\n",
    "\n",
    "def monte_carlo_heston(S0: float, a: float, alpha: float, xi: float, V0: float, VL: float, r: float, q: float, T: float, NoOfSteps: int, NoOfPaths: int, seed:int = 42) -> pd.DataFrame:\n",
    "    \"\"\"\n",
    "    :param S0: Initial stock price\n",
    "    :param a: mean revert rate\n",
    "    :param alpha: exponent of Vol\n",
    "    :param xi: volatility of volatility (kurtosis)\n",
    "    :param V0: initial volatility\n",
    "    :param VL: Long term Variance\n",
    "    :param r: riskless rate\n",
    "    :param rho: correlation coefficient between returns and vol\n",
    "    :param q: dividend yield\n",
    "    :param T: Time to maturity\n",
    "    :param NoOfSteps: Number of steps on each random walk\n",
    "    :param NoOfPaths: Number of random walks\n",
    "    :return: Stochastic Volatility paths and Stock paths\n",
    "    \"\"\"\n",
    "    np.random.seed(seed)\n",
    "    dt = T/NoOfSteps\n",
    "    drift = r - q\n",
    "    cov = np.array([[1, rho],\n",
    "                    [rho, 1]])\n",
    "    # sampling correlated brownian motions under risk-neutral measure\n",
    "    correlated_BM = np.random.multivariate_normal([0, 0], cov, (NoOfSteps, NoOfPaths))\n",
    "    samples_S = correlated_BM[:, :, 0]\n",
    "    paths_S = np.ones(shape=[NoOfSteps, NoOfPaths])\n",
    "    samples_V = correlated_BM[:, :, 1]\n",
    "    paths_V = np.ones(shape=[NoOfSteps, NoOfPaths])\n",
    "    paths_V[0, :] = V0\n",
    "    paths_S[0, :] = S0\n",
    "    for i in range(1, NoOfSteps):\n",
    "        for n in range(NoOfPaths):\n",
    "            paths_V[i, n] = np.maximum(paths_V[i - 1, n] + a*(VL - paths_V[i-1, n])*dt + xi*(paths_V[i-1, n]**alpha) * samples_V[i, n]*np.sqrt(dt), 0)\n",
    "            paths_S[i, n] = paths_S[i-1, n]*np.exp(drift*dt + np.sqrt(paths_V[i-1, n]) * samples_S[i, n] * np.sqrt(dt))\n",
    "    vol = [f\"vol_{i}\" for i in range(NoOfPaths)]\n",
    "    stock = [f\"stock process_{i}\" for i in range(NoOfPaths)]\n",
    "    vol = pd.DataFrame(data=paths_V, columns = vol)\n",
    "    S = pd.DataFrame(data=paths_S, columns = stock)\n",
    "    return vol, S"
   ]
  },
  {
   "cell_type": "code",
   "execution_count": 18,
   "id": "086659ba-24b0-4c97-a752-edbeded33324",
   "metadata": {
    "tags": []
   },
   "outputs": [],
   "source": [
    "def MSplot(data, p=4):\n",
    "    x = data.abs()\n",
    "    fig, axs = plt.subplots(nrows=int(p/2), ncols=2, figsize=(8, 6))\n",
    "    r = []\n",
    "    for i in range(1, p + 1):\n",
    "        y = x**i\n",
    "        S = y.cumsum()\n",
    "        M = y.cummax()\n",
    "        r.append(M/S)\n",
    "    \n",
    "    axs[0, 0].plot(range(len(x)), r[0], color=\"orangered\")\n",
    "    axs[0, 0].set_title(\"MS plot, p=1\")\n",
    "    axs[0, 0].set_xlabel(\"n\")\n",
    "    axs[0, 0].set_ylabel(\"Rn\")\n",
    "    axs[0, 1].plot(range(len(x)), r[1], color =\"orangered\")\n",
    "    axs[0, 1].set_xlabel(\"n\")\n",
    "    axs[0, 1].set_title(\"MS plot, p=2\")\n",
    "    axs[1, 0].plot(range(len(x)), r[2], color=\"orangered\")\n",
    "    axs[1, 0].set_xlabel(\"n\")\n",
    "    axs[1, 0].set_ylabel(\"Rn\")\n",
    "    axs[1, 0].set_title(\"MS plot, p=3\")\n",
    "    axs[1, 1].plot(range(len(x)), r[3], color=\"orangered\")\n",
    "    axs[1, 1].set_xlabel(\"n\")\n",
    "    axs[1, 1].set_title(\"MS plot, p=4\")\n",
    "    \n",
    "    plt.tight_layout()\n",
    "    \n",
    "        \n",
    "    plt.show()\n",
    "        "
   ]
  }
 ],
 "metadata": {
  "kernelspec": {
   "display_name": "Python 3 (ipykernel)",
   "language": "python",
   "name": "python3"
  },
  "language_info": {
   "codemirror_mode": {
    "name": "ipython",
    "version": 3
   },
   "file_extension": ".py",
   "mimetype": "text/x-python",
   "name": "python",
   "nbconvert_exporter": "python",
   "pygments_lexer": "ipython3",
   "version": "3.9.6"
  }
 },
 "nbformat": 4,
 "nbformat_minor": 5
}
